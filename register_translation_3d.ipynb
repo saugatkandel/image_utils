{
 "cells": [
  {
   "cell_type": "code",
   "execution_count": 435,
   "metadata": {
    "ExecuteTime": {
     "end_time": "2018-04-17T22:30:37.247553Z",
     "start_time": "2018-04-17T22:30:37.239138Z"
    }
   },
   "outputs": [
    {
     "data": {
      "text/plain": [
       "'\\nPort of matlab code from:\\n'"
      ]
     },
     "execution_count": 435,
     "metadata": {},
     "output_type": "execute_result"
    }
   ],
   "source": [
    "\"\"\"\n",
    "Port of matlab code from:\n",
    "https://github.com/flatironinstitute/NoRMCorre/blob/master/dftregistration_min_max_3d.m\n",
    "\n",
    "Original 2d version by Manuel Guizar:\n",
    "https://www.mathworks.com/matlabcentral/fileexchange/18401-efficient-subpixel-image-registration-by-cross-correlation\n",
    "\n",
    "Adapted from the 2d registration code in (which is based on Manuel Guizar's code):\n",
    "https://github.com/scikit-image/scikit-image/blob/master/skimage/feature/register_translation.py#L109\n",
    "\n",
    "by Saugat Kandel - 04/17/18\n",
    "\n",
    "\n",
    "\"\"\""
   ]
  },
  {
   "cell_type": "code",
   "execution_count": 189,
   "metadata": {
    "ExecuteTime": {
     "end_time": "2018-04-17T21:34:58.507910Z",
     "start_time": "2018-04-17T21:34:58.502397Z"
    }
   },
   "outputs": [],
   "source": [
    "import numpy as np"
   ]
  },
  {
   "cell_type": "code",
   "execution_count": 283,
   "metadata": {
    "ExecuteTime": {
     "end_time": "2018-04-17T21:50:35.064088Z",
     "start_time": "2018-04-17T21:50:35.049059Z"
    }
   },
   "outputs": [],
   "source": [
    "def _upsampled_dft(data, upsampled_region_size=None,\n",
    "                   upsample_factor=1, axis_offsets=None):\n",
    "    \"\"\"\n",
    "    Upsampled DFT by matrix multiplication.\n",
    "    This code is intended to provide the same result as if the following\n",
    "    operations were performed:\n",
    "        - Embed the array \"data\" in an array that is ``upsample_factor`` times\n",
    "          larger in each dimension.  ifftshift to bring the center of the\n",
    "          image to (1,1,1).\n",
    "        - Take the FFT of the larger array.\n",
    "        - Extract an ``[upsampled_region_size]`` region of the result, starting\n",
    "          with the ``[axis_offsets+1]`` element.\n",
    "    It achieves this result by computing the DFT in the output array without\n",
    "    the need to zeropad. Much faster and memory efficient than the zero-padded\n",
    "    FFT approach if ``upsampled_region_size`` is much smaller than\n",
    "    ``data.size * upsample_factor``.\n",
    "    Parameters\n",
    "    ----------\n",
    "    data : 3D ndarray\n",
    "        The input data array (DFT of original data) to upsample.\n",
    "    upsampled_region_size : integer or tuple of integers, optional\n",
    "        The size of the region to be sampled.  If one integer is provided, it\n",
    "        is duplicated up to the dimensionality of ``data``.  If None, this is\n",
    "        equal to ``data.shape``.\n",
    "    upsample_factor : integer, optional\n",
    "        The upsampling factor.  Defaults to 1.\n",
    "    axis_offsets : tuple of integers, optional\n",
    "        The offsets of the region to be sampled.  Defaults to None (uses\n",
    "        image center)\n",
    "    Returns\n",
    "    -------\n",
    "    output : 3D ndarray\n",
    "            The upsampled DFT of the specified region.\n",
    "    \"\"\"\n",
    "    \n",
    "    nr, nc, nz = data.shape\n",
    "    \n",
    "    if upsampled_region_size is None:\n",
    "        upsampled_region_size = data.shape\n",
    "    # if people pass in an integer, expand it to a list of equal-sized sections\n",
    "    elif not hasattr(upsampled_region_size, \"__iter__\"):\n",
    "        upsampled_region_size = [upsampled_region_size, ] * data.ndim\n",
    "    else:\n",
    "        if len(upsampled_region_size) != data.ndim:\n",
    "            raise ValueError(\"shape of upsampled region sizes must be equal \"\n",
    "                             \"to input data's number of dimensions.\")\n",
    "    upsampled_region_size = np.array(upsampled_region_size, dtype='int')\n",
    "    upsampr, upsampc, upsampz = upsampled_region_size\n",
    "    \n",
    "    if axis_offsets is None:\n",
    "        axis_offsets = [0, ] * data.ndim\n",
    "    elif not hasattr(axis_offsets, \"__iter__\"):\n",
    "        axis_offsets = [axis_offsets, ] * data.ndim\n",
    "    else:\n",
    "        if len(axis_offsets) != data.ndim:\n",
    "            raise ValueError(\"number of axis offsets must be equal to input \"\n",
    "                             \"data's number of dimensions.\")\n",
    "            \n",
    "    offsr, offsc, offsz = axis_offsets\n",
    "    \n",
    "\n",
    "    #kernc = np.exp((-1j * 2 * np.pi / (nc * upsample_factor)) * \n",
    "    #               (np.fft.ifftshift(np.arange(nc))[:, None] -\n",
    "    #                np.floor(nc / 2)).dot(\n",
    "    #                   np.arange(upsampc)[None, :] - offsc))\n",
    "    \n",
    "    kernr = np.exp((-1j * 2 * np.pi / (nr * upsample_factor)) *\n",
    "                   (np.arange(upsampr)[:, None] - offsr).dot(\n",
    "                       np.fft.ifftshift(np.arange(nr))[None, :] -\n",
    "                       np.floor(nr / 2)))\n",
    "    \n",
    "    kernc = np.exp((-1j * 2 * np.pi / (nc * upsample_factor)) *\n",
    "                   (np.arange(upsampc)[:, None] - offsc).dot(\n",
    "                       np.fft.ifftshift(np.arange(nc))[None, :] -\n",
    "                       np.floor(nc / 2)))\n",
    "\n",
    "    kernz = np.exp((-1j * 2 * np.pi / (nz * upsample_factor)) *\n",
    "                   (np.arange(upsampz)[:, None] - offsz).dot(\n",
    "                       np.fft.ifftshift(np.arange(nz))[None, :] -\n",
    "                       np.floor(nz / 2)))\n",
    "    \n",
    "    out = np.reshape(kernr @ data.reshape(nr,-1), [upsampr, nc, nz])\n",
    "    out = np.transpose(out, [1, 0, 2])\n",
    "    out = np.reshape(kernc @ out.reshape(nc, -1), [upsampc, upsampr, nz])\n",
    "    out = np.transpose(out, [1, 0, 2])\n",
    "    out = np.transpose(out, [2, 1, 0])\n",
    "    out = np.reshape(kernz @ out.reshape(nz, -1), [upsampc, upsampr, upsampz])\n",
    "    out = np.transpose(out, [2, 1, 0])\n",
    "    return out"
   ]
  },
  {
   "cell_type": "code",
   "execution_count": 284,
   "metadata": {
    "ExecuteTime": {
     "end_time": "2018-04-17T21:50:36.976336Z",
     "start_time": "2018-04-17T21:50:36.973235Z"
    }
   },
   "outputs": [],
   "source": [
    "def _compute_phasediff(cross_correlation_max):\n",
    "    \"\"\"\n",
    "    Compute global phase difference between the two images (should be\n",
    "        zero if images are non-negative).\n",
    "    Parameters\n",
    "    ----------\n",
    "    cross_correlation_max : complex\n",
    "        The complex value of the cross correlation at its maximum point.\n",
    "    \"\"\"\n",
    "    return np.arctan2(cross_correlation_max.imag, cross_correlation_max.real)"
   ]
  },
  {
   "cell_type": "code",
   "execution_count": 285,
   "metadata": {
    "ExecuteTime": {
     "end_time": "2018-04-17T21:50:38.697716Z",
     "start_time": "2018-04-17T21:50:38.694490Z"
    }
   },
   "outputs": [],
   "source": [
    "def _compute_error(cross_correlation_max, src_amp, target_amp):\n",
    "    \"\"\"\n",
    "    Compute RMS error metric between ``src_image`` and ``target_image``.\n",
    "    Parameters\n",
    "    ----------\n",
    "    cross_correlation_max : complex\n",
    "        The complex value of the cross correlation at its maximum point.\n",
    "    src_amp : float\n",
    "        The normalized average image intensity of the source image\n",
    "    target_amp : float\n",
    "        The normalized average image intensity of the target image\n",
    "    \"\"\"\n",
    "    error = 1.0 - cross_correlation_max * cross_correlation_max.conj() / (src_amp * target_amp)\n",
    "    return np.sqrt(np.abs(error))"
   ]
  },
  {
   "cell_type": "code",
   "execution_count": 400,
   "metadata": {
    "ExecuteTime": {
     "end_time": "2018-04-17T21:57:26.077240Z",
     "start_time": "2018-04-17T21:57:26.050841Z"
    }
   },
   "outputs": [],
   "source": [
    "def register_translation_3d(src_image, target_image, upsample_factor=1,\n",
    "                         space=\"real\"):\n",
    "    \"\"\"\n",
    "    Efficient subpixel image translation registration by cross-correlation.\n",
    "    This code gives the same precision as the FFT upsampled cross-correlation\n",
    "    in a fraction of the computation time and with reduced memory requirements.\n",
    "    It obtains an initial estimate of the cross-correlation peak by an FFT and\n",
    "    then refines the shift estimation by upsampling the DFT only in a small\n",
    "    neighborhood of that estimate by means of a matrix-multiply DFT.\n",
    "    Parameters\n",
    "    ----------\n",
    "    src_image : ndarray\n",
    "        Reference image.\n",
    "    target_image : ndarray\n",
    "        Image to register.  Must be same dimensionality as ``src_image``.\n",
    "    upsample_factor : int, optional\n",
    "        Upsampling factor. Images will be registered to within\n",
    "        ``1 / upsample_factor`` of a pixel. For example\n",
    "        ``upsample_factor == 20`` means the images will be registered\n",
    "        within 1/20th of a pixel.  Default is 1 (no upsampling)\n",
    "    space : string, one of \"real\" or \"fourier\"\n",
    "        Defines how the algorithm interprets input data.  \"real\" means data\n",
    "        will be FFT'd to compute the correlation, while \"fourier\" data will\n",
    "        bypass FFT of input data.  Case insensitive.\n",
    "    Returns\n",
    "    -------\n",
    "    shifts : ndarray\n",
    "        Shift vector (in pixels) required to register ``target_image`` with\n",
    "        ``src_image``.  Axis ordering is consistent with numpy (e.g. Z, Y, X)\n",
    "    error : float\n",
    "        Translation invariant normalized RMS error between ``src_image`` and\n",
    "        ``target_image``.\n",
    "    phasediff : float\n",
    "        Global phase difference between the two images (should be\n",
    "        zero if images are non-negative).\n",
    "    References\n",
    "    ----------\n",
    "    .. [1] Manuel Guizar-Sicairos, Samuel T. Thurman, and James R. Fienup,\n",
    "           \"Efficient subpixel image registration algorithms,\"\n",
    "           Optics Letters 33, 156-158 (2008).\n",
    "    \"\"\"\n",
    "    \n",
    "    ndim = src_image.ndim\n",
    "    # images must be the same shape\n",
    "    if src_image.shape != target_image.shape:\n",
    "        raise ValueError(\"Error: images must be same size for \"\n",
    "                         \"register_translation\")\n",
    "\n",
    "    # assume complex data is already in Fourier space\n",
    "    if space.lower() == 'fourier':\n",
    "        src_freq = src_image\n",
    "        target_freq = target_image\n",
    "    # real data needs to be fft'd.\n",
    "    elif space.lower() == 'real':\n",
    "        src_image = np.array(src_image, dtype=np.complex128, copy=False)\n",
    "        target_image = np.array(target_image, dtype=np.complex128, copy=False)\n",
    "        src_freq = np.fft.fftn(src_image)\n",
    "        target_freq = np.fft.fftn(target_image)\n",
    "    else:\n",
    "        raise ValueError(\"Error: register_translation only knows the \\\"real\\\" \"\n",
    "                         \"and \\\"fourier\\\" values for the ``space`` argument.\")\n",
    "\n",
    "    upsample_factor = np.array(upsample_factor, dtype=np.float64) #ASI: added to avoid overflow when computing upsample_factor**2\n",
    "    # Whole-pixel shift - Compute cross-correlation by an IFFT\n",
    "    shape = src_freq.shape\n",
    "    image_product = src_freq * target_freq.conj()\n",
    "    cross_correlation = (np.fft.ifftn(image_product)) #ASI: removed fftshift\n",
    "    # Locate maximum\n",
    "    maxima = np.unravel_index(np.argmax(np.abs(cross_correlation)),\n",
    "                              cross_correlation.shape) #ASI: np.argmax does not use abs of input, but it should here\n",
    "    midpoints = np.array([np.fix(axis_size / 2) for axis_size in shape])\n",
    "\n",
    "    #ASI: added the following 2 if statements\n",
    "    shifts = np.array(maxima, dtype=np.float64)\n",
    "    shifts[shifts > midpoints] -= np.array(shape)[shifts > midpoints]\n",
    "\n",
    "    if upsample_factor == 1:\n",
    "        src_amp = np.sum(np.abs(src_freq) ** 2) / src_freq.size\n",
    "        target_amp = np.sum(np.abs(target_freq) ** 2) / target_freq.size\n",
    "        CCmax = cross_correlation.max()\n",
    "    # If upsampling > 1, then refine estimate with matrix multiply DFT\n",
    "    else:\n",
    "        # Initial shift estimate in upsampled grid\n",
    "        shifts = np.round(shifts * upsample_factor) / upsample_factor\n",
    "        upsampled_region_size = np.ceil(upsample_factor * 1.5) #ASI: Increased default window size, single pixel precision guess might not be close enough to peak\n",
    "        # Center of output array at dftshift + 1\n",
    "        dftshift = np.fix(upsampled_region_size / 2.0)\n",
    "        normalization = (np.product(np.asarray(shape)) * np.asarray(upsample_factor) ** 2) #ASI: changed normalization (not necessary)\n",
    "        # Matrix multiply DFT around the current shift estimate\n",
    "        sample_region_offset = dftshift - shifts*upsample_factor #ASI: changed sample region offset\n",
    "        cross_correlation = _upsampled_dft(image_product.conj(),\n",
    "                                           upsampled_region_size,\n",
    "                                           upsample_factor,\n",
    "                                           sample_region_offset).conj() #ASI: conjuagte input to upsampled dft\n",
    "        cross_correlation /= normalization\n",
    "\n",
    "        # Locate maximum and map back to original pixel grid\n",
    "        maxima = np.array(np.unravel_index(np.argmax(np.abs(cross_correlation)),\n",
    "                                           cross_correlation.shape),\n",
    "                          dtype=np.float64) #ASI: np.argmax does not use abs of input, but it should here\n",
    "        maxima -= dftshift\n",
    "        shifts = shifts + maxima / upsample_factor #ASI: changed sign of pixel shift adjustment\n",
    "        CCmax = cross_correlation.max()\n",
    "        src_amp = _upsampled_dft(src_freq * src_freq.conj(),\n",
    "                                 1, upsample_factor)[0, 0, 0]\n",
    "        src_amp /= normalization\n",
    "        target_amp = _upsampled_dft(target_freq * target_freq.conj(),\n",
    "                                    1,\n",
    "                                    upsample_factor)[0, 0, 0]\n",
    "        target_amp /= normalization\n",
    "\n",
    "    # If its only one row or column the shift along that dimension has no\n",
    "    # effect. We set to zero.\n",
    "    shifts = np.fix(shifts)\n",
    "    for dim in range(ndim):\n",
    "        if midpoints[dim] == 1:\n",
    "            shifts[dim] = 0\n",
    "    return shifts, _compute_error(CCmax, src_amp, target_amp), _compute_phasediff(CCmax)"
   ]
  }
 ],
 "metadata": {
  "kernelspec": {
   "display_name": "Python 3",
   "language": "python",
   "name": "python3"
  },
  "language_info": {
   "codemirror_mode": {
    "name": "ipython",
    "version": 3
   },
   "file_extension": ".py",
   "mimetype": "text/x-python",
   "name": "python",
   "nbconvert_exporter": "python",
   "pygments_lexer": "ipython3",
   "version": "3.6.4"
  },
  "varInspector": {
   "cols": {
    "lenName": 16,
    "lenType": 16,
    "lenVar": 40
   },
   "kernels_config": {
    "python": {
     "delete_cmd_postfix": "",
     "delete_cmd_prefix": "del ",
     "library": "var_list.py",
     "varRefreshCmd": "print(var_dic_list())"
    },
    "r": {
     "delete_cmd_postfix": ") ",
     "delete_cmd_prefix": "rm(",
     "library": "var_list.r",
     "varRefreshCmd": "cat(var_dic_list()) "
    }
   },
   "types_to_exclude": [
    "module",
    "function",
    "builtin_function_or_method",
    "instance",
    "_Feature"
   ],
   "window_display": false
  }
 },
 "nbformat": 4,
 "nbformat_minor": 2
}
